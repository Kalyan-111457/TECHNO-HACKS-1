{
 "cells": [
  {
   "cell_type": "code",
   "execution_count": 1,
   "id": "77b6b193",
   "metadata": {},
   "outputs": [],
   "source": [
    "def add(x,y):\n",
    "    return x+y\n",
    "def sub(x,y):\n",
    "    return x-y\n",
    "def mul(x,y):\n",
    "    return x*y\n",
    "def  divide(x,y):                    #4 functions are written\n",
    "    if y!=0:\n",
    "        return x/y\n",
    "    else:\n",
    "        return \"cannot divide by zero\""
   ]
  },
  {
   "cell_type": "code",
   "execution_count": 2,
   "id": "b4abf34a",
   "metadata": {},
   "outputs": [
    {
     "name": "stdout",
     "output_type": "stream",
     "text": [
      "select operation\n",
      "1. addition\n",
      "2. subtraction\n",
      "3. multiplication\n",
      "4. division\n",
      "enter choice4\n",
      "enter first number78\n",
      "enter second number89\n",
      "78.0 / 89.0 = 0.8764044943820225\n"
     ]
    }
   ],
   "source": [
    "def calculator():\n",
    "    print(\"select operation\")\n",
    "    print(\"1. addition\")\n",
    "    print(\"2. subtraction\")\n",
    "    print(\"3. multiplication\")\n",
    "    print(\"4. division\")\n",
    "     \n",
    "    choice=input(\"enter choice\")\n",
    "    \n",
    "    if choice in('1','2','3','4'):\n",
    "        num1=float(input(\"enter first number\"))\n",
    "        num2=float(input(\"enter second number\"))\n",
    "        \n",
    "        if choice== '1':\n",
    "            print(num1,\"+\",num2,\"=\",add(num1,num2))\n",
    "        elif choice=='2':\n",
    "            print(num1,\"-\",num2,\"=\",sub(num1,num2))\n",
    "        elif choice=='3':\n",
    "            print(num1,\"*\",num2,\"=\",mul(num1,num2))\n",
    "        elif choice=='4':\n",
    "            print(num1,\"/\",num2,\"=\",divide(num1,num2))\n",
    "    else:\n",
    "        print(\"invalid output\")\n",
    "        \n",
    "calculator()\n",
    "            "
   ]
  },
  {
   "cell_type": "code",
   "execution_count": null,
   "id": "f7223ef8",
   "metadata": {},
   "outputs": [],
   "source": []
  },
  {
   "cell_type": "code",
   "execution_count": null,
   "id": "c3eb0e01",
   "metadata": {},
   "outputs": [],
   "source": []
  }
 ],
 "metadata": {
  "kernelspec": {
   "display_name": "Python 3 (ipykernel)",
   "language": "python",
   "name": "python3"
  },
  "language_info": {
   "codemirror_mode": {
    "name": "ipython",
    "version": 3
   },
   "file_extension": ".py",
   "mimetype": "text/x-python",
   "name": "python",
   "nbconvert_exporter": "python",
   "pygments_lexer": "ipython3",
   "version": "3.9.13"
  }
 },
 "nbformat": 4,
 "nbformat_minor": 5
}
